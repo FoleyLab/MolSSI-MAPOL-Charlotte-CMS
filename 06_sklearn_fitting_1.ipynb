{
 "cells": [
  {
   "cell_type": "markdown",
   "id": "e99c200c-6714-423b-878b-1a987b62a267",
   "metadata": {},
   "source": [
    "<div style=\"text-align:center;\">\n",
    "  <img src=\"custom/molssi_main_horizontal.png\" style=\"display: block; margin: 0 auto; max-height:200px;\">\n",
    "</div>\n",
    "\n",
    "# Linear Fitting using SciKit Learn\n",
    "\n",
    "<strong>Author(s):</strong> Jessica A. Nash, The Molecular Sciences Software Institute\n",
    "\n",
    "<div class=\"alert alert-block alert-info\"> \n",
    "<h2>Overview</h2>\n",
    "\n",
    "<strong>Questions:</strong>\n",
    "\n",
    "<li>How do you fit a linear model using SciKit Learn?</li>\n",
    "<li>How can you evaluate the performance of a linear model?</li>\n",
    "<li>What is a train-test-split?</li>\n",
    "\n",
    "<strong>Objectives:</strong>\n",
    "\n",
    "<li>Learn how to fit a linear model using SciKit Learn.</li>\n",
    "<li>Learn how to do a train-test-split using SciKit Learn.</li>\n",
    "\n",
    "</div>\n",
    "\n",
    "In this lesson, we will fit a linear model using SciKit Learn. \n",
    "Our data set will be the one we built yesterday.\n"
   ]
  },
  {
   "cell_type": "code",
   "execution_count": null,
   "id": "79d5f005-a2f1-450f-891d-057e8f4ac938",
   "metadata": {},
   "outputs": [],
   "source": [
    "import pandas as pd"
   ]
  },
  {
   "cell_type": "code",
   "execution_count": null,
   "id": "39f2b1ed-bea5-4d6d-a8c9-174a0576feec",
   "metadata": {},
   "outputs": [],
   "source": [
    "df = pd.read_csv(\"data/amino_acids_processed.csv\")\n",
    "df.head()"
   ]
  },
  {
   "cell_type": "code",
   "execution_count": null,
   "id": "a1fc46a3-b4ed-460b-89db-70b46de56e95",
   "metadata": {},
   "outputs": [],
   "source": [
    "X = df[[\"num_heavy\"]]\n",
    "Y = df[[\"molecular_weight\"]]"
   ]
  },
  {
   "cell_type": "markdown",
   "id": "138afb4a-b2d1-4777-95e4-40301830979f",
   "metadata": {},
   "source": [
    "## Linear Fitting with SciKit Learn\n",
    "Now that we have prepared our X and Y variables, let's see how we would do a fit using scikitlearn.\n",
    "\n",
    "Typically when doing fitting with scikitlearn, the first thing you will do is to import the type of model you want to use. In our case, we are importing a `LinearRegression` model. This type of model performs ordinary least squares fitting. You will first import the model, then you will create a model object. After creation, you will give data to the model and tell it to perform a fit. Your model can then be used to make predictions.\n",
    "\n",
    "Now that you have imported the model, you can read more about it either on the SciKitLearn website, or by using the built-in Python help function.\n",
    "\n",
    "Before we do the fit, we first create the model. Then, we specify settings for it such as if we want the linear model to have an intercept. It will have one by default, but if you wanted to do an ordinary least squares fit without an intercept, you would specify it when you create the model."
   ]
  },
  {
   "cell_type": "code",
   "execution_count": null,
   "id": "a60f6b24-bac2-49e3-9236-d6966e8ba911",
   "metadata": {},
   "outputs": [],
   "source": [
    "import numpy as np\n",
    "import matplotlib.pyplot as plt\n",
    "from sklearn.linear_model import LinearRegression\n",
    "\n",
    "# Fit a linear regression model\n",
    "model = LinearRegression()\n",
    "model.fit(X, Y)"
   ]
  },
  {
   "cell_type": "markdown",
   "id": "9c43fd41-18d5-4f93-ab05-b305baee1161",
   "metadata": {},
   "source": [
    "After we create the model, we give it data and call the fit function. Then, the model will contain information about coefficients and an intercept."
   ]
  },
  {
   "cell_type": "code",
   "execution_count": null,
   "id": "170d9502-297c-4268-ba3a-1064c9142639",
   "metadata": {},
   "outputs": [],
   "source": [
    "print(f\"The coefficients are {model.coef_} and the intercept is {model.intercept_}.\")"
   ]
  },
  {
   "cell_type": "markdown",
   "id": "69606042-9006-4a48-bfcc-bb69bf64d8f4",
   "metadata": {},
   "source": [
    "Remember that each coefficient above corresponds to one of the features. For example, the coefficient (12.55) tells us that for every 1 heavy atom our molecular weight increases by 12.55 (what element does that roughly correspond to?).\n",
    "\n",
    "## Using the linear regression to make predictions\n",
    "\n",
    "One way we might evaluate our fit is to compare the values predicted by the model to the actual values."
   ]
  },
  {
   "cell_type": "code",
   "execution_count": null,
   "id": "e7d64e7b-f2c2-460b-a800-f91c7046f659",
   "metadata": {},
   "outputs": [],
   "source": [
    "from sklearn.metrics import r2_score\n",
    "\n",
    "# Predict molecular weights using the linear model\n",
    "predicted_weight = model.predict(X)\n",
    "\n",
    "# Print the model coefficients\n",
    "print(f\"Model coefficient (slope): {model.coef_[0][0]}\")\n",
    "print(f\"Model intercept: {model.intercept_[0]}\")\n",
    "\n",
    "r2_score(predicted_weight, Y)"
   ]
  },
  {
   "cell_type": "markdown",
   "id": "05d11c36-7ac9-4b13-9cff-e85230d7f2e5",
   "metadata": {},
   "source": [
    "## Visualizing Results\n",
    "\n",
    "In machine learning contexts, we may sometimes not be able to visualize the model in 2 dimensions as we can with simpler models. In these cases, it's common to create a scatter plot of predicted vs. actual (true) values to evaluate the model's performance.\n",
    "\n",
    "In this type of plot, one would expect a perfect model to produce points that lie along a line with a slope of 1, which corresponds to the line \\( y = x \\). Points that fall below this diagonal line indicate that the model is under-predicting (i.e., the predicted values are less than the actual values), while points that fall above the line indicate that the model is over-predicting (i.e., the predicted values are greater than the actual values)."
   ]
  },
  {
   "cell_type": "code",
   "execution_count": null,
   "id": "28700367-5cb8-4543-9072-b519ca5ad861",
   "metadata": {},
   "outputs": [],
   "source": [
    "# Plot the results\n",
    "y_values = Y.values\n",
    "plt.scatter(y_values, predicted_weight)\n",
    "\n",
    "plt.plot([min(y_values), max(y_values)], [min(y_values), max(y_values)], 'r--', label='Ideal line (y=x)')\n",
    "plt.xlabel('Actual Molecular Weight')\n",
    "plt.ylabel('Predicted Molecular Weight')\n",
    "plt.title('Predicted vs. Actual Molecular Weight')\n",
    "plt.legend()\n",
    "plt.grid(True)\n",
    "plt.axis('equal')"
   ]
  },
  {
   "cell_type": "markdown",
   "id": "50c183e4-f4a2-4d93-aa14-a5944bb0e6b7",
   "metadata": {},
   "source": [
    "## Model Validation - Train Test Split\n",
    "\n",
    "When training a model, it is a best practice to evaluate the model's performance on data that was not part of the training set.\n",
    "One way to achieve this is to use a method called \"train test split\".\n",
    "\n",
    "Train-test split is a widely used technique in the field of machine learning and data science to evaluate the performance of a model. It involves dividing the available data into two sets: a training set and a testing set. The training set is used to train the model, while the testing set is used to evaluate the model's performance."
   ]
  },
  {
   "cell_type": "code",
   "execution_count": null,
   "id": "be438d3b-933f-406d-82e6-6deea93cab1f",
   "metadata": {},
   "outputs": [],
   "source": [
    "from sklearn.model_selection import train_test_split\n",
    "\n",
    "X_train, X_test, Y_train, Y_test = train_test_split(X, Y)"
   ]
  },
  {
   "cell_type": "markdown",
   "id": "8e4e337c-020b-4aca-8a18-79d0b2bcc725",
   "metadata": {},
   "source": [
    "Now we perform a train-test split using the training data only:"
   ]
  },
  {
   "cell_type": "code",
   "execution_count": null,
   "id": "20e3a2fc-b6a9-4490-9cff-87ccaf1c3df5",
   "metadata": {},
   "outputs": [],
   "source": [
    "ttt_model = LinearRegression()\n",
    "ttt_model.fit(X_train, Y_train)"
   ]
  },
  {
   "cell_type": "markdown",
   "id": "0291fde7-80b6-4c65-90e8-ec57575e8789",
   "metadata": {},
   "source": [
    "After performing our fit with the training data, we use the \"test\" data to evaluate the model."
   ]
  },
  {
   "cell_type": "code",
   "execution_count": null,
   "id": "c4157032-0b90-4930-b77c-5f7bec51d347",
   "metadata": {},
   "outputs": [],
   "source": [
    "y_pred = ttt_model.predict(X_test)"
   ]
  },
  {
   "cell_type": "code",
   "execution_count": null,
   "id": "10a26383-950f-4f1d-9019-c6d1707a137b",
   "metadata": {},
   "outputs": [],
   "source": [
    "# Print the model coefficients\n",
    "print(f\"Model coefficient (slope): {ttt_model.coef_[0][0]}\")\n",
    "print(f\"Model intercept: {ttt_model.intercept_[0]}\")\n",
    "\n",
    "r2_score(y_pred, Y_test)"
   ]
  },
  {
   "cell_type": "code",
   "execution_count": null,
   "id": "de9d9eab-ce0b-46ec-9acc-dc24f1b9c743",
   "metadata": {},
   "outputs": [],
   "source": [
    "# Plot the results\n",
    "y_values = Y.values\n",
    "y_predict_all = ttt_model.predict(X)\n",
    "\n",
    "plt.scatter(y_values, y_predict_all)\n",
    "\n",
    "plt.plot([min(y_values), max(y_values)], [min(y_values), max(y_values)], 'r--', label='Ideal line (y=x)')\n",
    "plt.xlabel('Actual Molecular Weight')\n",
    "plt.ylabel('Predicted Molecular Weight')\n",
    "plt.title('Predicted vs. Actual Molecular Weight')\n",
    "plt.legend()\n",
    "plt.grid(True)\n",
    "plt.axis('equal')"
   ]
  },
  {
   "cell_type": "markdown",
   "id": "3687a8e3-c1e2-4ac3-b890-abd5b441631b",
   "metadata": {},
   "source": [
    "## The SciKit Learn Model API\n",
    "\n",
    "All scikit learn models use the same API, or interface. This means to switch from a linear model to a more sophisticated model like a [random forest model](https://scikit-learn.org/stable/modules/generated/sklearn.ensemble.RandomForestRegressor.html), one need only change\n",
    "the model creation.\n",
    "\n",
    "For example, recall our code to fit a linear model and use it for prediction:\n",
    "\n",
    "```python\n",
    "from sklearn.linear_model import LinearRegression \n",
    "\n",
    "model = LinearRegression()\n",
    "model.fit(X,Y)\n",
    "predictions = model.predict(X)\n",
    "```\n",
    "\n",
    "To do the same thing with a random forest regresso, the code would be:\n",
    "\n",
    "\n",
    "```python\n",
    "from sklearn.ensemble import RandomForestRegressor\n",
    "\n",
    "model = RandomForestRegressor()\n",
    "model.fit(X, Y)\n",
    "predictions = model.predict(X)\n",
    "\n",
    "```"
   ]
  },
  {
   "cell_type": "markdown",
   "id": "555cec7f-9549-4f43-b6ea-2c8bc9609d02",
   "metadata": {},
   "source": [
    "<div class=\"alert alert-block alert-warning\"> \n",
    "<h3>Challenge</h3>\n",
    "\n",
    "Using the periodic table dataset from the previous lesson, fit ionization energy vs. electronegativity with a linear model.\n",
    "\n",
    "</div>"
   ]
  },
  {
   "cell_type": "code",
   "execution_count": null,
   "id": "35a4b974-a09b-4846-a31d-b02752e86486",
   "metadata": {},
   "outputs": [],
   "source": [
    "# provided \n",
    "periodic_df = pd.read_csv(\"data/PubChemElements_all.csv\")\n",
    "elements_to_fit = periodic_df.dropna(subset=['Electronegativity', 'IonizationEnergy'])"
   ]
  },
  {
   "cell_type": "code",
   "execution_count": null,
   "id": "e0ad00fb-9582-4a89-9de7-0cfe2ea160d4",
   "metadata": {},
   "outputs": [],
   "source": []
  },
  {
   "cell_type": "code",
   "execution_count": null,
   "id": "bcd2226b-7494-4085-95ae-8cec6efd8508",
   "metadata": {},
   "outputs": [],
   "source": []
  },
  {
   "cell_type": "code",
   "execution_count": null,
   "id": "ae3ed07c-56ca-46e5-935b-5aa993b2865b",
   "metadata": {},
   "outputs": [],
   "source": []
  },
  {
   "cell_type": "code",
   "execution_count": null,
   "id": "0d1269e2-91f7-4551-a1ef-73e8d8894230",
   "metadata": {},
   "outputs": [],
   "source": []
  },
  {
   "cell_type": "code",
   "execution_count": null,
   "id": "d86de4fa-24a4-4dbe-9d77-ae191a196735",
   "metadata": {},
   "outputs": [],
   "source": []
  }
 ],
 "metadata": {
  "kernelspec": {
   "display_name": "Python 3 (ipykernel)",
   "language": "python",
   "name": "python3"
  },
  "language_info": {
   "codemirror_mode": {
    "name": "ipython",
    "version": 3
   },
   "file_extension": ".py",
   "mimetype": "text/x-python",
   "name": "python",
   "nbconvert_exporter": "python",
   "pygments_lexer": "ipython3",
   "version": "3.10.14"
  }
 },
 "nbformat": 4,
 "nbformat_minor": 5
}
