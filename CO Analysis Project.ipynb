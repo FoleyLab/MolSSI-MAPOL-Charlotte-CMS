{
 "cells": [
  {
   "cell_type": "code",
   "execution_count": 1,
   "metadata": {},
   "outputs": [],
   "source": [
    "# Taken from MgH+ calculation with minor changes to calculate for CO (0, -2, +2) instead\n",
    "\n",
    "__authors__ = [\"Ruby Manderna, Lane Tolley, Figen Suchanek, Jonathan J. Foley, \"]\n",
    "__email__   = [\"rmandern@uncc.edu, ptolley1@uncc.edu, suchanekf@wpunj.edu, jfoley19@uncc.edu, \"]\n",
    "__credits__ = [\"Ruby Manderna, Lane Tolley, Figen Suchanek, Jonathan J. Foley\"]\n",
    "__copyright__ = \"(c) 2008-2020, The Psi4Education Developers\"\n",
    "__license__   = \"BSD-3-Clause\"\n",
    "__date__      = \"2021-02-11\"\n",
    "\n",
    "\n",
    "import psi4\n",
    "import numpy as np\n",
    "from scipy.interpolate import InterpolatedUnivariateSpline\n",
    "from numpy import linalg as LA\n",
    "from psi4.driver.procrouting.response.scf_response import tdscf_excitations\n",
    "\n",
    "from matplotlib import pyplot as plt\n",
    "\n",
    "\n",
    "psi4.core.set_output_file('output.dat', False)"
   ]
  },
  {
   "cell_type": "code",
   "execution_count": 2,
   "metadata": {},
   "outputs": [],
   "source": [
    "# set basis - calling level of theory (cc-pVDZ)\n",
    "psi4.set_options({\n",
    "    'basis':'cc-pVDZ'\n",
    "})\n",
    "\n",
    "# set the number of electronic states... this is the ground state + n_states more\n",
    "# we will get 1 excited-state\n",
    "n_states = 1\n",
    "\n",
    "# set the number of bond lengths to compute the stretch along (CHANGE AS NECESSARY FOR CALCULATION TO CONVERGE + NICE GRAPH)\n",
    "n_geoms = 17\n",
    "\n",
    "# initialize geometry list\n",
    "geoms = []\n",
    "\n",
    "# initialize energy list... note\n",
    "# there will be the ground state energy + n_states excited state energies\n",
    "Es = np.zeros((n_states+1, n_geoms))\n",
    "\n",
    "# initialize z-component of transition dipole list\n",
    "mu_z = np.zeros((n_states, n_geoms))\n",
    "\n",
    "# generate bond lengths\n",
    "rs = []\n",
    "for i in range(0,n_geoms):\n",
    "    rs.append(1 + i*0.1) # Will change initial bond length as necessary for calculation to converge\n",
    "\n",
    "# loop over bond lengths\n",
    "ctr = 0\n",
    "for i in rs:\n",
    "    # generate the  molecule using a z-matrix and set the bond length - CHANGES FOR CHARGES\n",
    "    # 0 1 line changed to -2 1 and +2 1 for ionized forms (First # for charge, 2nd # for singlet state)\n",
    "    mol = psi4.geometry(\"\"\"\n",
    "    C\n",
    "    O 1 \"\"\" + str(i) + \"\"\"\n",
    "   \n",
    "    0 1  \n",
    "    \"\"\")\n",
    "    # save the geometry\n",
    "    geoms.append(mol.geometry().to_array())\n",
    "    psi4.set_options({\n",
    "    'save_jk': True,\n",
    "    })  \n",
    "   \n",
    "    # calculate and save the ground-state energy and wavefunction\n",
    "    e, wfn = psi4.energy(\"b3lyp/cc-pVDZ\", return_wfn=True, molecule=mol)\n",
    "    \n",
    "    # calculate the excited-state energies and save them to a dictionary called 'res'\n",
    "    res = tdscf_excitations(wfn, states=n_states, triplets = \"NONE\")\n",
    "    \n",
    "    # parse the excitation energies from the 'res' dictionary \n",
    "    delta_e = [r[\"EXCITATION ENERGY\"] for r in res]\n",
    "    \n",
    "    # parse the transition dipole moment from the 'res' dictionary\n",
    "    mu = [r[\"ELECTRIC DIPOLE TRANSITION MOMENT (LEN)\"] for r in res]\n",
    "    Es[0,ctr] = e\n",
    "    \n",
    "    # store the results to the respective arrays\n",
    "    for j in range(0, n_states):\n",
    "        Es[j+1,ctr] = e + delta_e[j]\n",
    "        # we only want the z-component which is index 2\n",
    "        mu_z[j,ctr] = np.absolute(mu[j][2])\n",
    "\n",
    "    \n",
    "    # increment the counter!\n",
    "    ctr += 1\n",
    "    \n"
   ]
  },
  {
   "cell_type": "code",
   "execution_count": 3,
   "metadata": {},
   "outputs": [
    {
     "name": "stdout",
     "output_type": "stream",
     "text": [
      "dict_keys(['EXCITATION ENERGY', 'ELECTRIC DIPOLE TRANSITION MOMENT (LEN)', 'OSCILLATOR STRENGTH (LEN)', 'ELECTRIC DIPOLE TRANSITION MOMENT (VEL)', 'OSCILLATOR STRENGTH (VEL)', 'MAGNETIC DIPOLE TRANSITION MOMENT', 'ROTATORY STRENGTH (LEN)', 'ROTATORY STRENGTH (VEL)', 'SYMMETRY', 'SPIN', 'RIGHT EIGENVECTOR ALPHA', 'LEFT EIGENVECTOR ALPHA', 'RIGHT EIGENVECTOR BETA', 'LEFT EIGENVECTOR BETA'])\n"
     ]
    }
   ],
   "source": [
    "# This will print all of the keys associated with the `res` dictionary.\n",
    "print(res[0].keys())\n",
    "\n",
    "# Take slices of information for Eg, Ee, and mu_eg only\n",
    "Eg_array = np.copy(Es[0,:])\n",
    "Ee_array = np.copy(Es[1,:])\n",
    "tdm_array = np.copy(mu_z[0,:])\n",
    "\n",
    "# fit all surfaces to a spline\n",
    "Eg_spline = InterpolatedUnivariateSpline(rs, Eg_array, k=3)\n",
    "Ee_spline = InterpolatedUnivariateSpline(rs, Ee_array, k=3)\n",
    "mu_spline = InterpolatedUnivariateSpline(rs, tdm_array, k=3)"
   ]
  },
  {
   "cell_type": "code",
   "execution_count": 4,
   "metadata": {},
   "outputs": [
    {
     "name": "stdout",
     "output_type": "stream",
     "text": [
      "-112.84475921086899\n",
      "-112.83157797129431\n",
      "6.405977231429802e-14\n"
     ]
    }
   ],
   "source": [
    "R_val = 2.5\n",
    "\n",
    "# Code to evaluate Eg_spline, Ee_spline, and mu_spline at R = 2.5 Angstroms\n",
    "Eg_val = Eg_spline(2.5)\n",
    "Ee_val = Ee_spline(2.5)\n",
    "tdm_val = mu_spline(2.5)\n",
    "\n",
    "print(Eg_val)\n",
    "print(Ee_val)\n",
    "print(tdm_val)"
   ]
  },
  {
   "cell_type": "code",
   "execution_count": 5,
   "metadata": {},
   "outputs": [
    {
     "name": "stdout",
     "output_type": "stream",
     "text": [
      "0.013181239574677761\n",
      "0.35867471006655655\n"
     ]
    }
   ],
   "source": [
    "# conversion factor for au -> eV\n",
    "au_to_eV = 27.211\n",
    "\n",
    "# Code to compute transition energy in atomic units and convert to eV\n",
    "transition_energy_au = Ee_val-Eg_val\n",
    "transition_energy_eV = transition_energy_au*27.211\n",
    "\n",
    "print(transition_energy_au)\n",
    "print(transition_energy_eV)\n",
    "\n"
   ]
  },
  {
   "cell_type": "code",
   "execution_count": 6,
   "metadata": {},
   "outputs": [],
   "source": [
    "def Rabi_Hamiltonian(A_value, omega_value, r_value, g_spline, e_spline, tdm_spline):\n",
    "    \"\"\"Function to compute the Rabi Hamiltonian\n",
    "\n",
    "    Arguments\n",
    "    ----------\n",
    "    A_value : float\n",
    "        fundamental coupling strength\n",
    "        \n",
    "    omega_value : float\n",
    "        photon energy\n",
    "        \n",
    "    r_value : float\n",
    "        value of the bondlength\n",
    "        \n",
    "    g_spline : scipy spline object\n",
    "        spline that is fit to the ground-state potential energy surface\n",
    "        \n",
    "    e_spline : scipy spline object\n",
    "        spline that is fit to the excited-state potential energy surface\n",
    "        \n",
    "    tdm_spline : scipy spline object\n",
    "        spline that is fit to the transition dipole moment surface\n",
    "        \n",
    "    Returns\n",
    "    -------\n",
    "    H : numpy array\n",
    "        3x3 Rabi Hamiltonian matrix\n",
    "    \"\"\"\n",
    "    \n",
    "    # initialize 3x3 Hamiltonian matrix\n",
    "    H = np.zeros((3,3))\n",
    "    \n",
    "    # pre-written first 2 diagonal entries\n",
    "    H[0,0] = g_spline(r_value)\n",
    "    H[1,1] = g_spline(r_value) + omega_value\n",
    "    \n",
    "    # ==> Code to compute 3rd diagonal entry H[2,2] goes here!\n",
    "    H[2,2] = e_spline(r_value)\n",
    "    # ==> Code to compute off-diagonal entries H[1,2] and H[2,1] goe here!\n",
    "    H[1,2] = A_value * tdm_spline(r_value)\n",
    "    H[2,1] = A_value * tdm_spline(r_value)\n",
    "    # return the matrix\n",
    "    return H\n"
   ]
  },
  {
   "cell_type": "code",
   "execution_count": 7,
   "metadata": {},
   "outputs": [],
   "source": [
    "A_value = 0.003\n",
    "\n",
    "H_Rabi = Rabi_Hamiltonian(A_value, transition_energy_au, R_val, Eg_spline, Ee_spline, mu_spline)"
   ]
  },
  {
   "cell_type": "code",
   "execution_count": 8,
   "metadata": {},
   "outputs": [],
   "source": [
    "def polariton_surfaces(A_value, omega_value, r_values, g_spline, e_spline, tdm_spline):\n",
    "   \n",
    "    # initialize lp and up surfaces\n",
    "    lp_surface = np.zeros_like(r_values)\n",
    "    up_surface = np.zeros_like(r_values)\n",
    "    \n",
    "    # loop through r values, build Rabi Hamiltonian, diagonalize, and store!\n",
    "    \n",
    "    for i in range(0, len(r_values)):\n",
    "        \n",
    "        # if there is no coupling, then we don't need to diagonalize anything\n",
    "        if A_value == 0:\n",
    "            lp_surface[i] = g_spline(r_values[i]) + omega_value\n",
    "            up_surface[i] = e_spline(r_values[i])\n",
    "        \n",
    "        # otherwise build Hamiltonian and diagonalize\n",
    "        else:\n",
    "            # Build the Rabi Hamiltonian\n",
    "            H = Rabi_Hamiltonian(A_value, omega_value, r_values[i], g_spline, e_spline, tdm_spline)\n",
    "            \n",
    "            # diagonalize\n",
    "            vals, vecs = LA.eigh(H)\n",
    "            \n",
    "            # store lp and up values\n",
    "            lp_surface[i] = vals[1]\n",
    "            up_surface[i] = vals[2]\n",
    "    \n",
    "    # return the surfaces\n",
    "    return lp_surface, up_surface\n"
   ]
  },
  {
   "cell_type": "code",
   "execution_count": 9,
   "metadata": {},
   "outputs": [],
   "source": [
    "# run this cell to compute the polariton PES\n",
    "lp_surface, up_surface = polariton_surfaces(A_value, transition_energy_au, rs, Eg_spline, Ee_spline, mu_spline)"
   ]
  },
  {
   "cell_type": "code",
   "execution_count": 10,
   "metadata": {},
   "outputs": [
    {
     "data": {
      "image/png": "[encoded data removed]",
      "text/plain": [
       "<Figure size 432x288 with 1 Axes>"
      ]
     },
     "metadata": {
      "needs_background": "light"
     },
     "output_type": "display_data"
    }
   ],
   "source": [
    "# Plotting figure\n",
    "plt.figure()\n",
    "# Four different plots\n",
    "plt.plot(rs, Eg_spline(rs)+transition_energy_au, \"r--\", label=\"Eg + $\\hbar \\omega$\")\n",
    "plt.plot(rs, Ee_spline(rs), \"b--\", label=\"Ee\")\n",
    "plt.plot(rs, lp_surface, \"red\", label=\"lower polariton\")\n",
    "plt.plot(rs, up_surface, \"blue\", label=\"upper polariton\")\n",
    "# Make graph look nice\n",
    "plt.grid(True)\n",
    "plt.xlabel('Bond Length(\\u212B)')\n",
    "plt.ylabel('Energy (au)')\n",
    "plt.legend()\n",
    "plt.tight_layout()\n",
    "# Zoom in as necessary to see y-value of intersection\n",
    "# plt.ylim([-112.84,-112.82])\n",
    "# plt.xlim([2.4,2.6])\n",
    "plt.savefig(F'CO_0_Full.png', dpi=300)\n",
    "# Figures saved: CO_0_Full.png, CO_0_Zoom.png, CO_-2_Full.png, CO_-2_Zoom.png, CO_+2_Zoom.png, CO_+2_Full.png\n",
    "#plt.show()"
   ]
  },
  {
   "cell_type": "code",
   "execution_count": 11,
   "metadata": {},
   "outputs": [
    {
     "data": {
      "text/plain": [
       "[<matplotlib.lines.Line2D at 0x7f2b00edf7f0>]"
      ]
     },
     "execution_count": 11,
     "metadata": {},
     "output_type": "execute_result"
    },
    {
     "data": {
      "image/png": "[encoded data removed]",
      "text/plain": [
       "<Figure size 432x288 with 1 Axes>"
      ]
     },
     "metadata": {
      "needs_background": "light"
     },
     "output_type": "display_data"
    }
   ],
   "source": [
    "# Quick plot of upper and lower surfaces only\n",
    "plt.figure()\n",
    "plt.plot(rs, Eg_spline(rs)+transition_energy_au)\n",
    "plt.plot(rs, Ee_spline(rs))"
   ]
  },
  {
   "cell_type": "markdown",
   "metadata": {},
   "source": [
    "(2.5, -112.83 AU)"
   ]
  },
  {
   "cell_type": "code",
   "execution_count": 12,
   "metadata": {},
   "outputs": [
    {
     "name": "stdout",
     "output_type": "stream",
     "text": [
      "Eg[-113.26490276 -113.31844383 -113.31306573 -113.27871903 -113.23182415\n",
      " -113.18126726 -113.13161973 -113.08499764 -113.04220612 -113.00342478\n",
      " -112.96856764 -112.93743741 -112.90978067 -112.88531147 -112.86373221\n",
      " -112.84475921 -112.82815915]\n",
      "Ee[-112.78855855 -112.92386573 -112.98771894 -113.01160734 -113.01344808\n",
      " -113.00347965 -112.9874821  -112.96865381 -112.94876259 -112.92883052\n",
      " -112.90949504 -112.89117124 -112.87412033 -112.85848597 -112.84432058\n",
      " -112.83157797 -112.81989089]\n",
      "tdm[3.52171738e-13 3.61121265e-14 5.90354764e-14 3.35999786e-14\n",
      " 4.52186628e-14 9.57756400e-15 6.12336059e-15 8.00747154e-15\n",
      " 1.44448506e-14 8.47849928e-15 2.82616643e-14 2.70055903e-14\n",
      " 2.60635348e-14 6.90840682e-15 4.77308107e-14 6.40597723e-14\n",
      " 4.39625888e-14]\n",
      "[1.0, 1.1, 1.2, 1.3, 1.4, 1.5, 1.6, 1.7000000000000002, 1.8, 1.9, 2.0, 2.1, 2.2, 2.3, 2.4000000000000004, 2.5, 2.6]\n"
     ]
    }
   ],
   "source": [
    "# Save arrays for export into \"Widget\" for Ers and g computation (Data exchange only coding done in \"Widget\")\n",
    "print(F'Eg{Eg_array}')\n",
    "np.save(\"Eg_array.npy\", Eg_array)\n",
    "print(F'Ee{Ee_array}')\n",
    "np.save(\"Ee_array.npy\", Ee_array)\n",
    "print(F'tdm{tdm_array}')\n",
    "np.save(\"tdm_array.npy\", tdm_array)\n",
    "print(rs)\n",
    "np.save(\"rs_array.npy\", rs)"
   ]
  }
 ],
 "metadata": {
  "kernelspec": {
   "display_name": "Python 3 (ipykernel)",
   "language": "python",
   "name": "python3"
  },
  "language_info": {
   "codemirror_mode": {
    "name": "ipython",
    "version": 3
   },
   "file_extension": ".py",
   "mimetype": "text/x-python",
   "name": "python",
   "nbconvert_exporter": "python",
   "pygments_lexer": "ipython3",
   "version": "3.9.7"
  },
  "latex_envs": {
   "LaTeX_envs_menu_present": true,
   "autoclose": false,
   "autocomplete": true,
   "bibliofile": "biblio.bib",
   "cite_by": "apalike",
   "current_citInitial": 1,
   "eqLabelWithNumbers": true,
   "eqNumInitial": 1,
   "hotkeys": {
    "equation": "Ctrl-E",
    "itemize": "Ctrl-I"
   },
   "labels_anchors": false,
   "latex_user_defs": false,
   "report_style_numbering": true,
   "user_envs_cfg": true
  }
 },
 "nbformat": 4,
 "nbformat_minor": 4
}
