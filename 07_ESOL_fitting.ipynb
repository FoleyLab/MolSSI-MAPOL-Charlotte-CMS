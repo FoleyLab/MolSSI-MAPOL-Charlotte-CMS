{
 "cells": [
  {
   "cell_type": "markdown",
   "id": "70bae2e2-8054-422f-8416-841c7c82f106",
   "metadata": {},
   "source": [
    "<div style=\"text-align:center;\">\n",
    "  <img src=\"custom/molssi_main_horizontal.png\" style=\"display: block; margin: 0 auto; max-height:200px;\">\n",
    "</div>\n",
    "\n",
    "# Creating a Solubility Model\n",
    "\n",
    "<strong>Author(s):</strong> Jessica A. Nash, Sina Mostafanejand, The Molecular Sciences Software Institute\n",
    "\n",
    "In this notebook, your task is to build a model for predicting the solubility of small molecules. We will use a dataset from a [2004 paper by John S. Delaney](https://pubs.acs.org/doi/10.1021/ci034243x) and aim to emulate the fitting of the ESOL (Estimated Solubility) model published in the paper.\n",
    "The Delaney model is a multi-linear regression model where small molecule solubility is predicted based on four molecular descriptors.\n",
    "\n",
    "## Molecular Solubility\n",
    "The solubility of a molecule is a critical property in medicinal chemistry, drug discovery, and agrochemistry as it determines the bioavailability of a drug or pesticide.\n",
    "**Partition coefficient**, $P$, measures the propensity of a neutral compound to dissolve in a mixture of two immiscible solvents, often water and octanol. In simple terms, it determines how much of a solute dissolves in the aqueous phase versus the organic portion.\n",
    "\n",
    "The partition coefficient is defined as:\n",
    "\n",
    "$$\n",
    "P = \\frac{[Solute]_{\\text{organic}}}{[Solute]_{\\text{aqueous}}}     \n",
    "$$\n",
    "\n",
    "where $[Solute]_{\\text{organic}}$ and $[Solute]_{\\text{aqueous}}$ are the concentrations of the solute in the organic and aqueous phases, respectively.\n",
    "Instead of $P$, we often use the logarithm of the partition coefficient, $\\log P$, which is more convenient to work with. A negative value of $\\log P$ indicates that the solute is more soluble in water, while a positive value indicates that the solute is more soluble in the organic phase. When $\\log P$ is close to zero, the solute is equally soluble in both phases. Although $\\log P$ is a constant value, its magnitude is dependent on the measurement conditions and the choice of the organic solvent.\n",
    "\n",
    "<div class=\"alert alert-block alert-warning\"> \n",
    "    <h2>Check Your Understanding</h2>\n",
    "    What does logP value of 1 mean?\n",
    "</div>\n",
    "\n"
   ]
  },
  {
   "cell_type": "code",
   "execution_count": null,
   "id": "08fe3353-b22a-4794-b000-50ca02663b12",
   "metadata": {},
   "outputs": [],
   "source": []
  },
  {
   "cell_type": "markdown",
   "id": "3d3550b1-2268-4e32-a90c-a832ef64a277",
   "metadata": {},
   "source": [
    "## Molecular Descriptors for Solubility Fitting\n",
    "\n",
    "The original ESOL model fits solubility as a multi-linear regression model of the following molecular descriptors.\n",
    "\n",
    "1. clogP\n",
    "2. Molecular Weight\n",
    "3. Number of rotatable bonds\n",
    "4. Aromatic proportion\n",
    "\n",
    "\n",
    "<div class=\"alert alert-block alert-success\"> \n",
    "<strong>Calculating Descriptors</strong>\n",
    "\n",
    "One task that may take you some time is figuring out how to calculate these descriptors. \n",
    "When in doubt, you may decided to use Google. The RDKit documentation is always a good source for information.\n",
    "\n",
    "For the first descriptor, `clogP`, you should use the [rdkit Crippen module](http://rdkit.org/docs/source/rdkit.Chem.Crippen.html).\n",
    "\n",
    "You can import it using\n",
    "\n",
    "```python\n",
    "from rdkit.Chem import Crippen\n",
    "```\n",
    "\n",
    "</div>\n",
    "\n",
    "The model published in the original paper is the following based on these four descriptors\n",
    "\n",
    "$$\n",
    "\\text{Log}(S_W) = 0.16 - 0.63 \\, \\text{clogP} - 0.0062 \\, \\text{MWT} +  0.066 \\, \\text{RB} - 0.74 \\, \\text{AP}\n",
    "$$\n",
    "\n",
    "\n",
    "Note that our dataset comes from the Supplemental Information of the original paper, and is only for a subset of the compounds considered in the original model.\n",
    "\n",
    "## Tasks\n",
    "\n",
    "The Supplemental Information from the paper is in the file `data/ESOL_supplemental.csv`.\n",
    "\n",
    "Your tasks are to:\n",
    "\n",
    "1. Load the data using `pandas`\n",
    "2. Calculate molecular descriptors using RDKit.\n",
    "3. Examine relationships using visualization tools - built in Pandas plotting or Seaborn.\n",
    "4. Select your data and do a train-test split.\n",
    "5. Train your model\n",
    "6. Evaluate your model.\n",
    "\n",
    "\n",
    "<div class=\"alert alert-block alert-success\"> \n",
    "<strong>Fitting Multi-Linear Regression</strong>\n",
    "\n",
    "When performing multi-linear regression with SciKit Learn, you will follow a similar procedure to the one we followed for linear regression\n",
    "except that when you select your columns for your X values, you should select multiple columns.\n",
    "\n",
    "</div>"
   ]
  },
  {
   "cell_type": "markdown",
   "id": "c6794923-078c-45d1-af85-376fecfc210a",
   "metadata": {},
   "source": [
    "## Task 1 - Load data using pandas"
   ]
  },
  {
   "cell_type": "code",
   "execution_count": null,
   "id": "fcc40200-34d6-472d-9ccc-0dd497163217",
   "metadata": {},
   "outputs": [],
   "source": []
  },
  {
   "cell_type": "code",
   "execution_count": null,
   "id": "b4f1628c-7d05-44a0-b214-4f566e6ccf29",
   "metadata": {},
   "outputs": [],
   "source": []
  },
  {
   "cell_type": "code",
   "execution_count": null,
   "id": "692234c5-b12b-488e-9ee3-efb977f88114",
   "metadata": {},
   "outputs": [],
   "source": []
  },
  {
   "cell_type": "markdown",
   "id": "45016e94-7d06-4dca-967e-ba8652a7432c",
   "metadata": {},
   "source": [
    "# Task 2\n",
    "Calculate molecular descriptors using RDKit.\n",
    "\n",
    "1. clogP\n",
    "2. Molecular Weight\n",
    "3. Number of rotatable bonds\n",
    "4. Aromatic proportion"
   ]
  },
  {
   "cell_type": "code",
   "execution_count": null,
   "id": "60777e06-b412-4afc-b29b-41342f0d7815",
   "metadata": {},
   "outputs": [],
   "source": []
  },
  {
   "cell_type": "markdown",
   "id": "07ea6dc2-449d-4492-adaa-6739920f61ad",
   "metadata": {},
   "source": []
  },
  {
   "cell_type": "code",
   "execution_count": null,
   "id": "d4f09708-1c5e-44fa-8c9a-d5d344b8c1fe",
   "metadata": {},
   "outputs": [],
   "source": []
  },
  {
   "cell_type": "markdown",
   "id": "caec5f0e-3a9f-4626-b8bf-40466109ba10",
   "metadata": {},
   "source": [
    "## Task 3 - Examine relationships using visualization tools - built in Pandas plotting or Seaborn."
   ]
  },
  {
   "cell_type": "code",
   "execution_count": null,
   "id": "33acbbd0-49df-4683-be31-bb9a046f1e04",
   "metadata": {},
   "outputs": [],
   "source": []
  },
  {
   "cell_type": "code",
   "execution_count": null,
   "id": "482b355c-68f3-4d3b-864c-a8fdfc1f060a",
   "metadata": {},
   "outputs": [],
   "source": []
  },
  {
   "cell_type": "code",
   "execution_count": null,
   "id": "353396d0-1432-43cc-93ee-654336998da7",
   "metadata": {},
   "outputs": [],
   "source": []
  },
  {
   "cell_type": "markdown",
   "id": "0dd0c19a-787b-455f-9861-c8720fcf4955",
   "metadata": {},
   "source": [
    "## Task 4 - Select your data and do a train-test split."
   ]
  },
  {
   "cell_type": "code",
   "execution_count": null,
   "id": "e542a20a-8486-4cae-bca6-c232cf608bc6",
   "metadata": {},
   "outputs": [],
   "source": []
  },
  {
   "cell_type": "code",
   "execution_count": null,
   "id": "346028fe-fa47-4964-88de-80560bfac2af",
   "metadata": {},
   "outputs": [],
   "source": []
  },
  {
   "cell_type": "code",
   "execution_count": null,
   "id": "f96a4af1-bff7-4907-a176-496889a1195f",
   "metadata": {},
   "outputs": [],
   "source": []
  },
  {
   "cell_type": "markdown",
   "id": "72c6f3cb-7268-47c9-a509-bbf9d5b08950",
   "metadata": {},
   "source": [
    "## Task 5 - Train Model"
   ]
  },
  {
   "cell_type": "code",
   "execution_count": null,
   "id": "8d28c1c8-a2c5-42bd-8bc1-75f0b389245d",
   "metadata": {},
   "outputs": [],
   "source": []
  },
  {
   "cell_type": "code",
   "execution_count": null,
   "id": "4cef6406-1c04-4cb6-a1df-efe2180d3e5d",
   "metadata": {},
   "outputs": [],
   "source": []
  },
  {
   "cell_type": "code",
   "execution_count": null,
   "id": "2e540869-1a19-41af-afc4-1ed651a8db02",
   "metadata": {},
   "outputs": [],
   "source": []
  },
  {
   "cell_type": "markdown",
   "id": "e59984c8-d642-47c2-a783-7bae162d5687",
   "metadata": {},
   "source": [
    "## Task 6 - Evaluate the Model"
   ]
  },
  {
   "cell_type": "code",
   "execution_count": null,
   "id": "e3d67631-76f5-4283-a900-db49e0bb484b",
   "metadata": {},
   "outputs": [],
   "source": []
  },
  {
   "cell_type": "code",
   "execution_count": null,
   "id": "eb776254-ecc8-4a4f-8ad7-0e9f7e23a721",
   "metadata": {},
   "outputs": [],
   "source": []
  },
  {
   "cell_type": "code",
   "execution_count": null,
   "id": "d961421c-62cc-4dd7-89c4-c0abaf6e82c9",
   "metadata": {},
   "outputs": [],
   "source": []
  }
 ],
 "metadata": {
  "kernelspec": {
   "display_name": "Python 3 (ipykernel)",
   "language": "python",
   "name": "python3"
  },
  "language_info": {
   "codemirror_mode": {
    "name": "ipython",
    "version": 3
   },
   "file_extension": ".py",
   "mimetype": "text/x-python",
   "name": "python",
   "nbconvert_exporter": "python",
   "pygments_lexer": "ipython3",
   "version": "3.10.14"
  }
 },
 "nbformat": 4,
 "nbformat_minor": 5
}
