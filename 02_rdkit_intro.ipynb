{
 "cells": [
  {
   "cell_type": "markdown",
   "id": "d9020474",
   "metadata": {},
   "source": [
    "<div style=\"text-align:center;\">\n",
    "  <img src=\"custom/molssi_main_horizontal.png\" style=\"display: block; margin: 0 auto; max-height:200px;\">\n",
    "</div>\n",
    "\n",
    "\n",
    "# Introduction to RDKit Molecules\n",
    "\n",
    "<strong>Author(s):</strong> Jessica A. Nash, The Molecular Sciences Software Institute\n",
    "\n",
    "<div class=\"alert alert-block alert-info\"> \n",
    "<h2>Overview</h2>\n",
    "\n",
    "<strong>Questions:</strong>\n",
    "\n",
    "* What is RDKit?\n",
    "\n",
    "* What is an RDKit molecule object?\n",
    "\n",
    "* What can I do with RDKit molecules?\n",
    "\n",
    "<strong>Objectives:</strong>\n",
    "\n",
    "* Use RDKit to create molecules in Python\n",
    "\n",
    "</div>\n",
    "\n",
    "There are Python libraries that are made for working just with chemical data. One commonly used library in Python for data science (or cheminformatics) is called [RDKit](https://en.wikipedia.org/wiki/RDKit). RDKit is an open-source cheminformatics library, primarily developed in C++ and has been under development since the year 2000. We will be using the Python interface to RDKit, though there are interfaces in other languages.\n",
    "\n",
    "RDKit provides a molecule object that allows you to manipulate chemical structures. It has capabilities for reading and writing molecular file formats, calculating molecular properties, and performing substructure searches. In addition, it offers a wide range of cheminformatics algorithms such as molecular fingerprint generation, similarity metrics calculation, and molecular descriptor computation. This notebook introduces RDKit basics, but we will see more of all of these topics in later notebooks.\n",
    "\n",
    "<div class=\"alert alert-block alert-success\"> \n",
    "<strong>Python Skills: Python Objects</strong>\n",
    "\n",
    "Most of this functionality is achieved through the RDKit `mol` object. In Python, we use the word \"object\" to refer to a variable type with associated data and methods. \n",
    "One example of an object we have seen in notebooks is a list - we could also call it a \"list object\". An object has `attributes` (data) and `methods`. \n",
    "You access information about objects with the syntax\n",
    "```python\n",
    "object.data\n",
    "```\n",
    "where data is the attribute name.\n",
    "\n",
    "You acceess object methods with the syntax\n",
    "```python\n",
    "object.method(arguments)\n",
    "```\n",
    "\n",
    "For example, for a list \"`append` is a method that was covered in the introductory lesson.\n",
    "\n",
    "```\n",
    "my_list = []\n",
    "my_list.append(1) # \"append\" is a method\n",
    "```\n",
    "</div>    \n",
    "\n",
    "In this lesson, we will create and manipulate RDKit `mol` objects. RDKit `mol` objects represent molecules and have\n",
    "attributes (data) and methods (actions) associated with molecules.\n",
    "\n",
    "We are going to use a part of RDKit called `Chem`. To use `Chem`, we first have to import it. "
   ]
  },
  {
   "cell_type": "code",
   "execution_count": null,
   "id": "afc9bc63",
   "metadata": {
    "tags": []
   },
   "outputs": [],
   "source": [
    "from rdkit import Chem"
   ]
  },
  {
   "cell_type": "markdown",
   "id": "d5b835ad",
   "metadata": {},
   "source": [
    "## Creating Molecules with RDKit\n",
    "\n",
    "Throughout this tutorial, it will be helpful to have access to the [RDKit documentation](https://www.rdkit.org/docs/index.html). \n",
    "\n",
    "To get information about molecules in RDKit, we have to first create objects representing molecules. RDKit has molecule object that can be used to retrieve information or calculate properties. To create a molecule object, we have to communicate the molecule identity in a way that computers understand. \n",
    "\n",
    "We will use SMILES strings to create our objects, though RDKit also has methods for creating molecules from the file formats listed in the previous notebook.\n",
    "\n",
    "### Creating molecules using SMILES\n",
    "\n",
    "In the last lesson, we learned about molecular representations using SMILES strings. Now we will use SMILES strings to create molecule objects in RDKIT. \n",
    "\n",
    "We can create a representation of methane using RDKit by using the `MolFromSmiles` function in `rdkit.Chem`."
   ]
  },
  {
   "cell_type": "code",
   "execution_count": null,
   "id": "40b29a7c",
   "metadata": {
    "tags": []
   },
   "outputs": [],
   "source": [
    "methane = Chem.MolFromSmiles(\"C\")"
   ]
  },
  {
   "cell_type": "markdown",
   "id": "da5b102b-e997-47b4-8a0d-7cc5befc1b7e",
   "metadata": {},
   "source": [
    "The `methane` variable is now an RDKit \"molecule object\".\n",
    "\n",
    "In a Jupyter environment, putting a variable that is an RDKit molecule as the only or last thing in a cell,\n",
    "will result in a picture of the molecule as an output."
   ]
  },
  {
   "cell_type": "code",
   "execution_count": null,
   "id": "99734c44",
   "metadata": {
    "tags": []
   },
   "outputs": [],
   "source": [
    "methane"
   ]
  },
  {
   "cell_type": "code",
   "execution_count": null,
   "id": "352da3a6-1059-4b2b-99f3-1b0236d279ed",
   "metadata": {},
   "outputs": [],
   "source": [
    "ethane = Chem.MolFromSmiles(\"CC\")\n",
    "ethane"
   ]
  },
  {
   "cell_type": "markdown",
   "id": "e98c39d3",
   "metadata": {},
   "source": [
    "<div class=\"alert alert-block alert-warning\">\n",
    "<h3>Check Your Understanding</h3>\n",
    "<p> Create RDKit molecules for the following molecules. You can look up the SMILES strings on <a href=\"https://pubchem.ncbi.nlm.nih.gov/\">PubChem</a>:\n",
    "<p>\n",
    "    <ul>\n",
    "        <li> Propane\n",
    "        <li> Ethene\n",
    "        <li> Cyclohexane\n",
    "        <li> Benzene </li>\n",
    "        <li> Acetic Acid\n",
    "    </ul>\n",
    "</p>\n",
    "<p>Create variables for each molecule. The variable names should be the molecule name (all lowercase)</p>\n",
    "</div>\n"
   ]
  },
  {
   "cell_type": "code",
   "execution_count": null,
   "id": "bbae7a92-6647-4361-b5ed-f45363f4d249",
   "metadata": {
    "tags": []
   },
   "outputs": [],
   "source": [
    "# Your answers go here\n",
    "propane = \n",
    "ethene =\n",
    "cyclohexane = \n",
    "benzene = \n",
    "acetic_acid = "
   ]
  },
  {
   "cell_type": "code",
   "execution_count": null,
   "id": "395bc20c-bef9-4941-a2f8-fca830baae2b",
   "metadata": {},
   "outputs": [],
   "source": [
    "# Try visualizing your molecules here - you visualize a molecule as putting its variable name as the last thing in a cell\n",
    "propane"
   ]
  },
  {
   "cell_type": "code",
   "execution_count": null,
   "id": "e22a13a2-305e-458b-9caa-ba636b836e1e",
   "metadata": {},
   "outputs": [],
   "source": [
    "# Try visualizing your molecules here - you visualize a molecule as putting its variable name as the last thing in a cell\n",
    "ethene"
   ]
  },
  {
   "cell_type": "code",
   "execution_count": null,
   "id": "2fc9b578-6889-43d9-85c0-0f07111053b3",
   "metadata": {},
   "outputs": [],
   "source": [
    "# Try visualizing your molecules here - you visualize a molecule as putting its variable name as the last thing in a cell\n",
    "cyclohexane"
   ]
  },
  {
   "cell_type": "code",
   "execution_count": null,
   "id": "0942cfe3-0ca2-4145-baaf-c7dff83fed24",
   "metadata": {},
   "outputs": [],
   "source": [
    "# Try visualizing your molecules here - you visualize a molecule as putting its variable name as the last thing in a cell\n",
    "benzene"
   ]
  },
  {
   "cell_type": "code",
   "execution_count": null,
   "id": "670f07a8-c1ac-41bc-b4d9-62ac7bf342fd",
   "metadata": {},
   "outputs": [],
   "source": [
    "# Try visualizing your molecules here - you visualize a molecule as putting its variable name as the last thing in a cell\n",
    "acetic_acid"
   ]
  },
  {
   "cell_type": "markdown",
   "id": "ee8b5f19-d326-4c5c-a563-ef06e7890b9f",
   "metadata": {},
   "source": [
    "## Working with RDKit Molecules\n",
    "\n",
    "RDKit molecule objects have a number of methods we can use to get more information about the molecule.\n",
    "In the next few cells, we'll look at some methods that can tell us some things about the molecules we've created.\n",
    "The next cell has settings for modifying drawing molecules. It adds labels of atom indices and sets the image size."
   ]
  },
  {
   "cell_type": "code",
   "execution_count": null,
   "id": "761d0c31-0e04-453a-9be7-cb93cb9386a5",
   "metadata": {},
   "outputs": [],
   "source": [
    "from rdkit.Chem.Draw import IPythonConsole\n",
    "from rdkit.Chem import Draw\n",
    "\n",
    "# Configuration for displaying in Jupyter notebooks\n",
    "IPythonConsole.ipython_useSVG = True  # Use SVG for higher quality images\n",
    "IPythonConsole.drawOptions.addAtomIndices = True  # Show atom indices\n",
    "IPythonConsole.molSize = 250,250 # Set size of image"
   ]
  },
  {
   "cell_type": "markdown",
   "id": "07cfae6b-3159-44df-8acf-67c35a68b99d",
   "metadata": {},
   "source": [
    "<div class=\"alert alert-block alert-success\"> \n",
    "<strong>Jupyter Skills: The Tab Key</strong>\n",
    "\n",
    "When working with Python objects in the Jupyter notebook, you can type a variable or object name to see the methods available on that object.\n",
    "\n",
    "In the cell below, type `acetic_acid.` (notice how there is a dot (`.`) at the end), then press the `tab` key. \n",
    "A list of possible methods and attributes will come up.\n",
    "\n",
    "Look through the methods until you find one that gives you the number of atoms in the molecule.\n",
    "\n",
    "</div>"
   ]
  },
  {
   "cell_type": "code",
   "execution_count": null,
   "id": "91d1dd84-e932-4f2d-a170-dc9a15ab5447",
   "metadata": {},
   "outputs": [],
   "source": [
    "# Pick a method that will tell you the number of\n",
    "# atoms benzene has.\n"
   ]
  },
  {
   "cell_type": "markdown",
   "id": "c69990f5-4a31-4fa5-9787-546faab4b071",
   "metadata": {},
   "source": [
    "<div class=\"alert alert-block alert-success\"> \n",
    "<strong>Python Skills: Getting Help</strong>\n",
    "\n",
    "Is this the number of atoms you expected for a benzene molecule? \n",
    "\n",
    "We can use the `help` function on the method you found in the previous step to find a method argument to figure out a method argument to get the number of atoms we expect.\n",
    "\n",
    "</div>"
   ]
  },
  {
   "cell_type": "code",
   "execution_count": null,
   "id": "eb159c7b-fb4f-4024-85e6-22f5d90d51ff",
   "metadata": {},
   "outputs": [],
   "source": []
  },
  {
   "cell_type": "code",
   "execution_count": null,
   "id": "66d59a12-0dd4-4e7a-adbc-e874c4f036ec",
   "metadata": {},
   "outputs": [],
   "source": [
    "# Add an argument to your function to get the number of \n",
    "# atoms that gives you the total number of atoms in acetic_acid\n",
    "# including hydrogens\n"
   ]
  },
  {
   "cell_type": "markdown",
   "id": "71567da6-cd35-4265-9c16-813c3d008456",
   "metadata": {},
   "source": [
    "Each molecule is made up of RDKit atom objects and RDKit bond objects.\n",
    "If we want to get the atoms for a particular molecule, we can use the `GetAtoms` method."
   ]
  },
  {
   "cell_type": "code",
   "execution_count": null,
   "id": "d1f14353-5f81-4c43-a7ea-8d8a5c5cfe8f",
   "metadata": {},
   "outputs": [],
   "source": [
    "acetic_acid_atoms = acetic_acid.GetAtoms()\n",
    "print(acetic_acid_atoms)"
   ]
  },
  {
   "cell_type": "markdown",
   "id": "5c674690-c889-4e43-8d39-99ec703c3534",
   "metadata": {},
   "source": [
    "<div class=\"alert alert-block alert-success\"> \n",
    "<strong>Python Skills: Iterators</strong>\n",
    "\n",
    "When we look at the results of the `GetAtoms` method, it tells us that we have a `GetAtomsIterator`.\n",
    "In Python, an iterator is an object that contains values that can be looped through and indexed in.\n",
    "\n",
    "Although we haven't used this terminology before, a Python list is an example of an iterator.\n",
    "\n",
    "</div>\n",
    "\n",
    "Like a list, we can also call `len` on the iterator.\n"
   ]
  },
  {
   "cell_type": "code",
   "execution_count": null,
   "id": "fc8318c2-0adf-48ae-b41a-c4cf99f129d8",
   "metadata": {},
   "outputs": [],
   "source": [
    "len(acetic_acid_atoms)"
   ]
  },
  {
   "cell_type": "markdown",
   "id": "578df920-172d-4d23-a42b-7cb9a27a4903",
   "metadata": {},
   "source": [
    "Because `acetic_acid_atoms` is an iterator, we can use indexing to get a particular atom.\n",
    "Atoms in RDKit molecules are represented by Atom objects."
   ]
  },
  {
   "cell_type": "code",
   "execution_count": null,
   "id": "9af16d3f-b730-4f5d-8763-75470ef5995b",
   "metadata": {},
   "outputs": [],
   "source": [
    "atom = acetic_acid_atoms[0]\n",
    "atom"
   ]
  },
  {
   "cell_type": "markdown",
   "id": "15254adb-2bff-4b0c-8a59-4001cf55b5bd",
   "metadata": {},
   "source": [
    "When we examine one atom, we see there that there are many methods associated with the atom. \n",
    "For example, we can print the atom element or atom hybridization."
   ]
  },
  {
   "cell_type": "code",
   "execution_count": null,
   "id": "c438feec-6021-4403-948c-924cd5a9afa1",
   "metadata": {},
   "outputs": [],
   "source": [
    "print(atom.GetSymbol())\n",
    "print(atom.GetHybridization())"
   ]
  },
  {
   "cell_type": "markdown",
   "id": "36750053-e4d8-4ce1-a8ff-4b71f5c33a0d",
   "metadata": {},
   "source": [
    "We can use a for loop to give information about each atom."
   ]
  },
  {
   "cell_type": "code",
   "execution_count": null,
   "id": "f93df84c-f808-493a-a7d1-07e75841cdbb",
   "metadata": {},
   "outputs": [],
   "source": [
    "for atom in acetic_acid_atoms:\n",
    "    print(f\"Atom {atom.GetSymbol()} has hybridization {atom.GetHybridization()}\")"
   ]
  },
  {
   "cell_type": "markdown",
   "id": "3a32c170-b190-4def-a24e-721f2bf9c50e",
   "metadata": {},
   "source": [
    "Bonds are also objects in RDKit, and we ca iterate over them the same way we can iterate over atoms."
   ]
  },
  {
   "cell_type": "code",
   "execution_count": null,
   "id": "64a6fb8f-bfc2-45a6-8659-641a6c47f574",
   "metadata": {},
   "outputs": [],
   "source": [
    "acetic_acid_bonds = acetic_acid.GetBonds()\n",
    "bond = acetic_acid_bonds[0]"
   ]
  },
  {
   "cell_type": "code",
   "execution_count": null,
   "id": "7af42942-0bf1-49c0-9478-ad162495c92e",
   "metadata": {},
   "outputs": [],
   "source": [
    "bond.GetBondType()"
   ]
  },
  {
   "cell_type": "markdown",
   "id": "1288c516-437e-4651-ba08-79592621793e",
   "metadata": {},
   "source": [
    "<div class=\"alert alert-block alert-warning\"> \n",
    "<h3>Challenge</h3>\n",
    "\n",
    "Use a `for` loop to print information about each bond.\n",
    "For each bond, you should print the starting atom symbol, the ending atom symbol,\n",
    "and the bond type. \n",
    "\n",
    "Your output should look like the following:\n",
    "\n",
    "```\n",
    "Bond between C and C is a SINGLE bond.\n",
    "Bond between C and O is a DOUBLE bond.\n",
    "Bond between C and O is a SINGLE bond.\n",
    "```\n",
    "\n",
    "</div>"
   ]
  },
  {
   "cell_type": "code",
   "execution_count": null,
   "id": "71c91dce-e046-46ea-a74f-069f9aba99f6",
   "metadata": {},
   "outputs": [],
   "source": []
  },
  {
   "cell_type": "markdown",
   "id": "c076e9e2-1b3d-4979-bfb5-aa4e643b813b",
   "metadata": {},
   "source": [
    "## Editing Atoms with RDKit\n",
    "\n",
    "In addition to seeing information about atoms and bonds in our molecule, we can also use RDKit to change our molecule structure. \n",
    "Let's consider benzene for our example. We will change one of the carbons in the benzene ring to a nitrogen to make pyridine.\n",
    "\n",
    "We are going to create a copy of our benzene molecule using another function from RDKit called `RWMol`. `RWMol` makes our molecule readable and writeable (or \"editable\")."
   ]
  },
  {
   "cell_type": "code",
   "execution_count": null,
   "id": "382e0906-f3cb-4413-9bee-b1a2f2f1f718",
   "metadata": {},
   "outputs": [],
   "source": [
    "pyridine = Chem.RWMol(benzene)\n",
    "pyridine"
   ]
  },
  {
   "cell_type": "markdown",
   "id": "d0bd6d4f-0d4d-4536-9bf0-79e596fa01c8",
   "metadata": {},
   "source": [
    "One way we can change molecules in RDKit is to set the atomic number of a particular atom to another number. \n",
    "To change one of the carbons in our ring to nitrogen, we can select one of the atoms and then set its atomic number to that of nitrogen (7)."
   ]
  },
  {
   "cell_type": "code",
   "execution_count": null,
   "id": "6f852ffe-d424-413f-8ce3-0d6e82b3324c",
   "metadata": {},
   "outputs": [],
   "source": [
    "atom = pyridine.GetAtomWithIdx() # Get atom with index 0 (labeled 0 above)\n",
    "atom.SetAtomicNum() # Set the atomic number to 7\n",
    "pyridine"
   ]
  },
  {
   "cell_type": "code",
   "execution_count": null,
   "id": "63eb53d6-af12-4b67-bede-1faaf9f760a6",
   "metadata": {},
   "outputs": [],
   "source": [
    "Chem.MolToSmiles(pyridine)"
   ]
  },
  {
   "cell_type": "markdown",
   "id": "607cba74-d60d-43a2-befa-11b74777580c",
   "metadata": {},
   "source": [
    "<div class=\"alert alert-block alert-warning\"> \n",
    "<h3>Challenge</h3>\n",
    "\n",
    "Change another atom in the pyridine ring to create [pyrimidine](https://en.wikipedia.org/wiki/Pyrimidine).\n",
    "\n",
    "</div>"
   ]
  },
  {
   "cell_type": "code",
   "execution_count": null,
   "id": "d31fdcc6-6fdd-4fc2-b820-2bc17fcd3048",
   "metadata": {},
   "outputs": [],
   "source": []
  },
  {
   "cell_type": "code",
   "execution_count": null,
   "id": "a62f8686-83aa-4dc8-841e-2eb4e931b375",
   "metadata": {},
   "outputs": [],
   "source": []
  },
  {
   "cell_type": "markdown",
   "id": "021f75c5-a9d2-4767-935c-8a46d4f22812",
   "metadata": {},
   "source": [
    "## Combining two molecules\n",
    "\n",
    "We can also create and combine molecules using RDKit. This approach might be necessary when we want to add a more complex functional group. In the example below we create a carboxyl group and add it to benzene to make benzoic acid.\n",
    "\n",
    "First we create the molecule for our functional group."
   ]
  },
  {
   "cell_type": "code",
   "execution_count": null,
   "id": "1ca7648c-8857-405c-a747-8c41ee5db922",
   "metadata": {},
   "outputs": [],
   "source": [
    "carboxyl = Chem.MolFromSmiles(\"C(=O)O\")\n",
    "carboxyl"
   ]
  },
  {
   "cell_type": "markdown",
   "id": "3f81da17-5b67-486c-821e-74cba04c053d",
   "metadata": {},
   "source": [
    "Next, we combine the two molecules together using the `CombineMols` function."
   ]
  },
  {
   "cell_type": "code",
   "execution_count": null,
   "id": "13dd67a7-afd2-4698-92e5-455bbdeca12a",
   "metadata": {},
   "outputs": [],
   "source": [
    "combined = Chem.CombineMols(benzene, carboxyl)\n",
    "combined"
   ]
  },
  {
   "cell_type": "markdown",
   "id": "ec93dc59-4468-446e-a03f-b2715597c45c",
   "metadata": {},
   "source": [
    "After the combining, we have to make our combined molecules editable so that we can change the bonds and atoms."
   ]
  },
  {
   "cell_type": "code",
   "execution_count": null,
   "id": "5459cbf8-5773-43a5-b947-03fcd8da515d",
   "metadata": {},
   "outputs": [],
   "source": [
    "editable_mol = Chem.RWMol(combined)\n",
    "editable_mol"
   ]
  },
  {
   "cell_type": "markdown",
   "id": "ddbcf42c-2c42-437d-aca1-88fd8ba4475a",
   "metadata": {},
   "source": [
    "Finally, we can use `AddBonds` to add a bond between the carbon on our carboxyl group (6) to an atom on benzene. We could have picked any carbon, but the example below uses index 5."
   ]
  },
  {
   "cell_type": "code",
   "execution_count": null,
   "id": "7e6035b7-3594-4e20-8347-254d9f951bcf",
   "metadata": {},
   "outputs": [],
   "source": [
    "editable_mol.AddBond(5, 6, order=Chem.rdchem.BondType.SINGLE)"
   ]
  },
  {
   "cell_type": "code",
   "execution_count": null,
   "id": "07b045f6-f06d-4348-b547-900164d014ea",
   "metadata": {},
   "outputs": [],
   "source": [
    "editable_mol"
   ]
  },
  {
   "cell_type": "markdown",
   "id": "be786a94-cab6-4597-b139-267568eac415",
   "metadata": {},
   "source": [
    "<div class=\"alert alert-block alert-info\"> \n",
    "<strong>Molecular Sanitization</strong>\n",
    "\n",
    "When a molecule is loaded into RDKit, a [\"molecular sanitization\"](https://www.rdkit.org/docs/RDKit_Book.html#molecular-sanitization) step typically takes place.\n",
    "Molecular sanitization ensures that molecules are \"reasonable\":that they can be represented with octet-complete Lewis dot structures.\n",
    "</div>\n",
    "\n",
    "After we add new atoms like this, our molecule usually needs to be \"sanitized\". One way we can tell this is by viewing the molecule above. Our aromatic ring structure is now symbolized with a dotted line inside of the ring. We will want to use the `Chem.SanitizeMol` method to sanitize the molecule.\n",
    "The step of sanitiziation that is important in this case is the `Kekulize` step, where aromatic rings are converted to the Kekule form. A Python error (exception) would occur if a problem is found with aromaticity. "
   ]
  },
  {
   "cell_type": "code",
   "execution_count": null,
   "id": "fa9dbe5c-32cc-438d-9aca-aa3e1b515836",
   "metadata": {},
   "outputs": [],
   "source": [
    "Chem.SanitizeMol(editable_mol)\n",
    "editable_mol"
   ]
  },
  {
   "cell_type": "markdown",
   "id": "cf0b95ef-bf40-4349-bbd4-1eaa3e47982e",
   "metadata": {},
   "source": [
    "<div class=\"alert alert-block alert-warning\"> \n",
    "<h2>Final Challenge</h2>\n",
    "\n",
    "[Protein phoshorylation](https://www.thermofisher.com/us/en/home/life-science/protein-biology/protein-biology-learning-center/protein-biology-resource-library/pierce-protein-methods/phosphorylation.html) refers to the additon of a phosphate group to the -OH group of an amino acid and occurs for serine, threonine, or tyrosine residues.\n",
    "\n",
    "For this challenge, you should modify the tyrosine module (given below) to add a phosphate to the OH group. \n",
    "\n",
    "</div>"
   ]
  },
  {
   "cell_type": "code",
   "execution_count": null,
   "id": "41f63879-b4e0-44af-b57e-69d61a738a79",
   "metadata": {},
   "outputs": [],
   "source": [
    "tyrosine = Chem.MolFromSmiles(\"C1=CC(=CC=C1CC(C(=O)O)N)O\")\n",
    "tyrosine = Chem.RWMol(tyrosine)\n",
    "tyrosine"
   ]
  },
  {
   "cell_type": "code",
   "execution_count": null,
   "id": "62f17377-5095-4bee-8e97-7dfb9eeacf0d",
   "metadata": {},
   "outputs": [],
   "source": []
  },
  {
   "cell_type": "code",
   "execution_count": null,
   "id": "92276a2f-7854-4909-9f63-989d38c65741",
   "metadata": {},
   "outputs": [],
   "source": []
  },
  {
   "cell_type": "code",
   "execution_count": null,
   "id": "65080f79-0912-4369-99a5-655198cc3fa9",
   "metadata": {},
   "outputs": [],
   "source": []
  },
  {
   "cell_type": "code",
   "execution_count": null,
   "id": "9354b5fd-636d-4625-aa6d-88518256d67d",
   "metadata": {},
   "outputs": [],
   "source": []
  },
  {
   "cell_type": "code",
   "execution_count": null,
   "id": "1f641471-702e-4161-afa4-2bfa7231ed22",
   "metadata": {},
   "outputs": [],
   "source": []
  },
  {
   "cell_type": "code",
   "execution_count": null,
   "id": "6580e03a-2fad-41a5-a109-905bb231da2c",
   "metadata": {},
   "outputs": [],
   "source": []
  }
 ],
 "metadata": {
  "kernelspec": {
   "display_name": "Python 3 (ipykernel)",
   "language": "python",
   "name": "python3"
  },
  "language_info": {
   "codemirror_mode": {
    "name": "ipython",
    "version": 3
   },
   "file_extension": ".py",
   "mimetype": "text/x-python",
   "name": "python",
   "nbconvert_exporter": "python",
   "pygments_lexer": "ipython3",
   "version": "3.12.10"
  },
  "vscode": {
   "interpreter": {
    "hash": "16d4a7bb199d969b1271ebe46f77414b0d9cd01b3c3983c2b2742fc6cd4503d3"
   }
  }
 },
 "nbformat": 4,
 "nbformat_minor": 5
}
