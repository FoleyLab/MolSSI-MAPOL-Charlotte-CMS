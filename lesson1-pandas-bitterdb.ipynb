{
 "cells": [
  {
   "cell_type": "markdown",
   "id": "acd48c13",
   "metadata": {},
   "source": [
    "# Lesson 1: Exploring Molecular Datasets with Pandas\n",
    "\n",
    "**Objective:** Learn how to explore chemical datasets using `pandas`.\n",
    "\n",
    "We'll use a small dataset inspired by **BitterDB** — a resource for bitter and non-bitter compounds."
   ]
  },
  {
   "cell_type": "code",
   "execution_count": 1,
   "id": "4694db46",
   "metadata": {},
   "outputs": [],
   "source": [
    "# Import pandas\n",
    "import pandas as pd"
   ]
  },
  {
   "cell_type": "code",
   "execution_count": 2,
   "id": "0e14345c",
   "metadata": {},
   "outputs": [
    {
     "data": {
      "text/html": [
       "<div>\n",
       "<style scoped>\n",
       "    .dataframe tbody tr th:only-of-type {\n",
       "        vertical-align: middle;\n",
       "    }\n",
       "\n",
       "    .dataframe tbody tr th {\n",
       "        vertical-align: top;\n",
       "    }\n",
       "\n",
       "    .dataframe thead th {\n",
       "        text-align: right;\n",
       "    }\n",
       "</style>\n",
       "<table border=\"1\" class=\"dataframe\">\n",
       "  <thead>\n",
       "    <tr style=\"text-align: right;\">\n",
       "      <th></th>\n",
       "      <th>Name</th>\n",
       "      <th>SMILES</th>\n",
       "      <th>Bitter</th>\n",
       "      <th>Class</th>\n",
       "    </tr>\n",
       "  </thead>\n",
       "  <tbody>\n",
       "    <tr>\n",
       "      <th>0</th>\n",
       "      <td>Caffeine</td>\n",
       "      <td>Cn1cnc2c1c(=O)n(c(=O)n2C)C</td>\n",
       "      <td>1</td>\n",
       "      <td>Alkaloid</td>\n",
       "    </tr>\n",
       "    <tr>\n",
       "      <th>1</th>\n",
       "      <td>Quinine</td>\n",
       "      <td>CC1=C(C(=O)NC2=CC=CC=C12)C3=CC=CC=C3O</td>\n",
       "      <td>1</td>\n",
       "      <td>Alkaloid</td>\n",
       "    </tr>\n",
       "    <tr>\n",
       "      <th>2</th>\n",
       "      <td>Saccharin</td>\n",
       "      <td>C1=CC=C(C=C1)C(=O)NS(=O)(=O)O</td>\n",
       "      <td>1</td>\n",
       "      <td>Artificial Sweetener</td>\n",
       "    </tr>\n",
       "    <tr>\n",
       "      <th>3</th>\n",
       "      <td>Sucrose</td>\n",
       "      <td>C(C1C(C(C(C(O1)O)O)O)O)O</td>\n",
       "      <td>0</td>\n",
       "      <td>Sugar</td>\n",
       "    </tr>\n",
       "    <tr>\n",
       "      <th>4</th>\n",
       "      <td>Denatonium</td>\n",
       "      <td>CC[N+](C)(C)CCC1=CC=C(C=C1)C(=O)[O-]</td>\n",
       "      <td>1</td>\n",
       "      <td>Quaternary Ammonium</td>\n",
       "    </tr>\n",
       "  </tbody>\n",
       "</table>\n",
       "</div>"
      ],
      "text/plain": [
       "         Name                                 SMILES  Bitter  \\\n",
       "0    Caffeine             Cn1cnc2c1c(=O)n(c(=O)n2C)C       1   \n",
       "1     Quinine  CC1=C(C(=O)NC2=CC=CC=C12)C3=CC=CC=C3O       1   \n",
       "2   Saccharin          C1=CC=C(C=C1)C(=O)NS(=O)(=O)O       1   \n",
       "3     Sucrose               C(C1C(C(C(C(O1)O)O)O)O)O       0   \n",
       "4  Denatonium   CC[N+](C)(C)CCC1=CC=C(C=C1)C(=O)[O-]       1   \n",
       "\n",
       "                  Class  \n",
       "0              Alkaloid  \n",
       "1              Alkaloid  \n",
       "2  Artificial Sweetener  \n",
       "3                 Sugar  \n",
       "4   Quaternary Ammonium  "
      ]
     },
     "execution_count": 2,
     "metadata": {},
     "output_type": "execute_result"
    }
   ],
   "source": [
    "# Create a small mock BitterDB dataset\n",
    "data = {\n",
    "    \"Name\": [\"Caffeine\", \"Quinine\", \"Saccharin\", \"Sucrose\", \"Denatonium\"],\n",
    "    \"SMILES\": [\n",
    "        \"Cn1cnc2c1c(=O)n(c(=O)n2C)C\",\n",
    "        \"CC1=C(C(=O)NC2=CC=CC=C12)C3=CC=CC=C3O\",\n",
    "        \"C1=CC=C(C=C1)C(=O)NS(=O)(=O)O\",\n",
    "        \"C(C1C(C(C(C(O1)O)O)O)O)O\",\n",
    "        \"CC[N+](C)(C)CCC1=CC=C(C=C1)C(=O)[O-]\"\n",
    "    ],\n",
    "    \"Bitter\": [1, 1, 1, 0, 1],\n",
    "    \"Class\": [\"Alkaloid\", \"Alkaloid\", \"Artificial Sweetener\", \"Sugar\", \"Quaternary Ammonium\"]\n",
    "}\n",
    "df = pd.DataFrame(data)\n",
    "df"
   ]
  },
  {
   "cell_type": "markdown",
   "id": "8b74b6d5",
   "metadata": {},
   "source": [
    "### Instructor Note\n",
    "- Ask students: *Which of these molecules are bitter? Why might that be?*\n",
    "- Highlight structure-property relationship exploration."
   ]
  },
  {
   "cell_type": "markdown",
   "id": "a41a0c1e",
   "metadata": {},
   "source": [
    "## Exploring the BitterDB Data"
   ]
  },
  {
   "cell_type": "code",
   "execution_count": 3,
   "id": "1e93dbb3",
   "metadata": {},
   "outputs": [
    {
     "data": {
      "text/plain": [
       "Index(['Name', 'SMILES', 'Bitter', 'Class'], dtype='object')"
      ]
     },
     "execution_count": 3,
     "metadata": {},
     "output_type": "execute_result"
    }
   ],
   "source": [
    "# What are the column names?\n",
    "df.columns"
   ]
  },
  {
   "cell_type": "code",
   "execution_count": 4,
   "id": "1e5395ec",
   "metadata": {},
   "outputs": [
    {
     "data": {
      "text/plain": [
       "(5, 4)"
      ]
     },
     "execution_count": 4,
     "metadata": {},
     "output_type": "execute_result"
    }
   ],
   "source": [
    "# How many molecules are in the dataset?\n",
    "df.shape"
   ]
  },
  {
   "cell_type": "code",
   "execution_count": 5,
   "id": "f8e5cde5",
   "metadata": {},
   "outputs": [
    {
     "data": {
      "text/html": [
       "<div>\n",
       "<style scoped>\n",
       "    .dataframe tbody tr th:only-of-type {\n",
       "        vertical-align: middle;\n",
       "    }\n",
       "\n",
       "    .dataframe tbody tr th {\n",
       "        vertical-align: top;\n",
       "    }\n",
       "\n",
       "    .dataframe thead th {\n",
       "        text-align: right;\n",
       "    }\n",
       "</style>\n",
       "<table border=\"1\" class=\"dataframe\">\n",
       "  <thead>\n",
       "    <tr style=\"text-align: right;\">\n",
       "      <th></th>\n",
       "      <th>Bitter</th>\n",
       "    </tr>\n",
       "  </thead>\n",
       "  <tbody>\n",
       "    <tr>\n",
       "      <th>count</th>\n",
       "      <td>5.000000</td>\n",
       "    </tr>\n",
       "    <tr>\n",
       "      <th>mean</th>\n",
       "      <td>0.800000</td>\n",
       "    </tr>\n",
       "    <tr>\n",
       "      <th>std</th>\n",
       "      <td>0.447214</td>\n",
       "    </tr>\n",
       "    <tr>\n",
       "      <th>min</th>\n",
       "      <td>0.000000</td>\n",
       "    </tr>\n",
       "    <tr>\n",
       "      <th>25%</th>\n",
       "      <td>1.000000</td>\n",
       "    </tr>\n",
       "    <tr>\n",
       "      <th>50%</th>\n",
       "      <td>1.000000</td>\n",
       "    </tr>\n",
       "    <tr>\n",
       "      <th>75%</th>\n",
       "      <td>1.000000</td>\n",
       "    </tr>\n",
       "    <tr>\n",
       "      <th>max</th>\n",
       "      <td>1.000000</td>\n",
       "    </tr>\n",
       "  </tbody>\n",
       "</table>\n",
       "</div>"
      ],
      "text/plain": [
       "         Bitter\n",
       "count  5.000000\n",
       "mean   0.800000\n",
       "std    0.447214\n",
       "min    0.000000\n",
       "25%    1.000000\n",
       "50%    1.000000\n",
       "75%    1.000000\n",
       "max    1.000000"
      ]
     },
     "execution_count": 5,
     "metadata": {},
     "output_type": "execute_result"
    }
   ],
   "source": [
    "# Get summary statistics for numeric columns\n",
    "df.describe()"
   ]
  },
  {
   "cell_type": "code",
   "execution_count": 6,
   "id": "938998e8",
   "metadata": {},
   "outputs": [
    {
     "data": {
      "text/plain": [
       "Bitter\n",
       "1    4\n",
       "0    1\n",
       "Name: count, dtype: int64"
      ]
     },
     "execution_count": 6,
     "metadata": {},
     "output_type": "execute_result"
    }
   ],
   "source": [
    "# Count how many molecules are bitter vs not bitter\n",
    "df['Bitter'].value_counts()"
   ]
  },
  {
   "cell_type": "code",
   "execution_count": 7,
   "id": "1863f5ea",
   "metadata": {},
   "outputs": [
    {
     "data": {
      "text/plain": [
       "Class\n",
       "Alkaloid                2\n",
       "Artificial Sweetener    1\n",
       "Sugar                   1\n",
       "Quaternary Ammonium     1\n",
       "Name: count, dtype: int64"
      ]
     },
     "execution_count": 7,
     "metadata": {},
     "output_type": "execute_result"
    }
   ],
   "source": [
    "# How many molecules per Class?\n",
    "df['Class'].value_counts()"
   ]
  },
  {
   "cell_type": "code",
   "execution_count": 8,
   "id": "fc167fa3",
   "metadata": {},
   "outputs": [
    {
     "data": {
      "text/html": [
       "<div>\n",
       "<style scoped>\n",
       "    .dataframe tbody tr th:only-of-type {\n",
       "        vertical-align: middle;\n",
       "    }\n",
       "\n",
       "    .dataframe tbody tr th {\n",
       "        vertical-align: top;\n",
       "    }\n",
       "\n",
       "    .dataframe thead th {\n",
       "        text-align: right;\n",
       "    }\n",
       "</style>\n",
       "<table border=\"1\" class=\"dataframe\">\n",
       "  <thead>\n",
       "    <tr style=\"text-align: right;\">\n",
       "      <th></th>\n",
       "      <th>Name</th>\n",
       "      <th>SMILES</th>\n",
       "      <th>Bitter</th>\n",
       "      <th>Class</th>\n",
       "    </tr>\n",
       "  </thead>\n",
       "  <tbody>\n",
       "    <tr>\n",
       "      <th>0</th>\n",
       "      <td>Caffeine</td>\n",
       "      <td>Cn1cnc2c1c(=O)n(c(=O)n2C)C</td>\n",
       "      <td>1</td>\n",
       "      <td>Alkaloid</td>\n",
       "    </tr>\n",
       "    <tr>\n",
       "      <th>1</th>\n",
       "      <td>Quinine</td>\n",
       "      <td>CC1=C(C(=O)NC2=CC=CC=C12)C3=CC=CC=C3O</td>\n",
       "      <td>1</td>\n",
       "      <td>Alkaloid</td>\n",
       "    </tr>\n",
       "    <tr>\n",
       "      <th>2</th>\n",
       "      <td>Saccharin</td>\n",
       "      <td>C1=CC=C(C=C1)C(=O)NS(=O)(=O)O</td>\n",
       "      <td>1</td>\n",
       "      <td>Artificial Sweetener</td>\n",
       "    </tr>\n",
       "    <tr>\n",
       "      <th>4</th>\n",
       "      <td>Denatonium</td>\n",
       "      <td>CC[N+](C)(C)CCC1=CC=C(C=C1)C(=O)[O-]</td>\n",
       "      <td>1</td>\n",
       "      <td>Quaternary Ammonium</td>\n",
       "    </tr>\n",
       "  </tbody>\n",
       "</table>\n",
       "</div>"
      ],
      "text/plain": [
       "         Name                                 SMILES  Bitter  \\\n",
       "0    Caffeine             Cn1cnc2c1c(=O)n(c(=O)n2C)C       1   \n",
       "1     Quinine  CC1=C(C(=O)NC2=CC=CC=C12)C3=CC=CC=C3O       1   \n",
       "2   Saccharin          C1=CC=C(C=C1)C(=O)NS(=O)(=O)O       1   \n",
       "4  Denatonium   CC[N+](C)(C)CCC1=CC=C(C=C1)C(=O)[O-]       1   \n",
       "\n",
       "                  Class  \n",
       "0              Alkaloid  \n",
       "1              Alkaloid  \n",
       "2  Artificial Sweetener  \n",
       "4   Quaternary Ammonium  "
      ]
     },
     "execution_count": 8,
     "metadata": {},
     "output_type": "execute_result"
    }
   ],
   "source": [
    "# Optional: Filter only bitter molecules\n",
    "df[df['Bitter'] == 1]"
   ]
  },
  {
   "cell_type": "markdown",
   "id": "b46fbf42",
   "metadata": {},
   "source": [
    "### YOU TRY 🧪\n",
    "Filter the dataset to show only **non-bitter** molecules. Can you sort them alphabetically by name?"
   ]
  },
  {
   "cell_type": "code",
   "execution_count": 9,
   "id": "4db94794-dfca-4d50-bd19-30757c3c35d5",
   "metadata": {},
   "outputs": [
    {
     "data": {
      "text/html": [
       "<div>\n",
       "<style scoped>\n",
       "    .dataframe tbody tr th:only-of-type {\n",
       "        vertical-align: middle;\n",
       "    }\n",
       "\n",
       "    .dataframe tbody tr th {\n",
       "        vertical-align: top;\n",
       "    }\n",
       "\n",
       "    .dataframe thead th {\n",
       "        text-align: right;\n",
       "    }\n",
       "</style>\n",
       "<table border=\"1\" class=\"dataframe\">\n",
       "  <thead>\n",
       "    <tr style=\"text-align: right;\">\n",
       "      <th></th>\n",
       "      <th>Name</th>\n",
       "      <th>SMILES</th>\n",
       "      <th>Bitter</th>\n",
       "      <th>Class</th>\n",
       "    </tr>\n",
       "  </thead>\n",
       "  <tbody>\n",
       "    <tr>\n",
       "      <th>3</th>\n",
       "      <td>Sucrose</td>\n",
       "      <td>C(C1C(C(C(C(O1)O)O)O)O)O</td>\n",
       "      <td>0</td>\n",
       "      <td>Sugar</td>\n",
       "    </tr>\n",
       "  </tbody>\n",
       "</table>\n",
       "</div>"
      ],
      "text/plain": [
       "      Name                    SMILES  Bitter  Class\n",
       "3  Sucrose  C(C1C(C(C(C(O1)O)O)O)O)O       0  Sugar"
      ]
     },
     "execution_count": 9,
     "metadata": {},
     "output_type": "execute_result"
    }
   ],
   "source": [
    "df[df['Bitter'] != 1]"
   ]
  },
  {
   "cell_type": "markdown",
   "id": "e56eb4b0",
   "metadata": {},
   "source": [
    "## What's Next?\n",
    "In the next lesson, we'll use a tool called **RDKit** to turn each molecule's SMILES string into **descriptors** like molecular weight and logP — the kinds of features used in machine learning."
   ]
  },
  {
   "cell_type": "markdown",
   "id": "bac91573-1c4d-4ae9-9f3a-f9f86a972321",
   "metadata": {},
   "source": [
    "## What's Next?\n",
    "In the next lesson, we'll use a tool called **RDKit** to turn each molecule's SMILES string into **descriptors** like molecular weight and logP — the kinds of features used in machine learning."
   ]
  },
  {
   "cell_type": "code",
   "execution_count": 10,
   "id": "e8e7dfcd-4f70-409f-8a0a-350be026a382",
   "metadata": {},
   "outputs": [
    {
     "name": "stdout",
     "output_type": "stream",
     "text": [
      "Molecules that failed to parse:\n",
      "[]\n",
      "Enhanced dataset with molecular descriptors:\n",
      "         Name                                 SMILES  Bitter  \\\n",
      "0    Caffeine             Cn1cnc2c1c(=O)n(c(=O)n2C)C       1   \n",
      "1     Quinine  CC1=C(C(=O)NC2=CC=CC=C12)C3=CC=CC=C3O       1   \n",
      "2   Saccharin          C1=CC=C(C=C1)C(=O)NS(=O)(=O)O       1   \n",
      "3     Sucrose               C(C1C(C(C(C(O1)O)O)O)O)O       0   \n",
      "4  Denatonium   CC[N+](C)(C)CCC1=CC=C(C=C1)C(=O)[O-]       1   \n",
      "\n",
      "                  Class    MolWt     LogP  NumHDonors  NumHAcceptors  \n",
      "0              Alkaloid  194.194 -1.02930           0              6  \n",
      "1              Alkaloid  251.285  3.20912           2              2  \n",
      "2  Artificial Sweetener  201.203  0.21920           2              3  \n",
      "3                 Sugar  180.156 -3.22140           5              6  \n",
      "4   Quaternary Ammonium  221.300  0.68890           0              2  \n",
      "\n",
      "Lipinski's Rule of Five Analysis:\n",
      "         Name    MolWt     LogP  NumHDonors  NumHAcceptors  \\\n",
      "0    Caffeine  194.194 -1.02930           0              6   \n",
      "1     Quinine  251.285  3.20912           2              2   \n",
      "2   Saccharin  201.203  0.21920           2              3   \n",
      "3     Sucrose  180.156 -3.22140           5              6   \n",
      "4  Denatonium  221.300  0.68890           0              2   \n",
      "\n",
      "   Lipinski_Violations  \n",
      "0                    0  \n",
      "1                    0  \n",
      "2                    0  \n",
      "3                    0  \n",
      "4                    0  \n",
      "\n",
      "Descriptor statistics by bitterness:\n",
      "           MolWt     LogP  NumHDonors  NumHAcceptors      TPSA\n",
      "Bitter                                                        \n",
      "0       180.1560 -3.22140         5.0           6.00  110.3800\n",
      "1       216.9955  0.77198         1.0           3.25   59.6275\n",
      "\n",
      "Additional structural descriptors:\n",
      "         Name  NumHeavyAtoms  NumAromaticRings\n",
      "0    Caffeine             14                 2\n",
      "1     Quinine             19                 3\n",
      "2   Saccharin             13                 1\n",
      "3     Sucrose             12                 0\n",
      "4  Denatonium             16                 1\n",
      "\n",
      "Aspirin descriptors: {'MolWt': 180.15899999999996, 'LogP': 1.3101, 'NumHDonors': 1, 'NumHAcceptors': 3, 'TPSA': 63.60000000000001, 'NumRotatableBonds': 2, 'NumHeavyAtoms': 13, 'NumAromaticRings': 1}\n",
      "\n",
      "Dataset ready for machine learning!\n",
      "Shape: (5, 13)\n",
      "Columns: ['Name', 'SMILES', 'Bitter', 'Class', 'MolWt', 'LogP', 'NumHDonors', 'NumHAcceptors', 'TPSA', 'NumRotatableBonds', 'Lipinski_Violations', 'NumHeavyAtoms', 'NumAromaticRings']\n"
     ]
    }
   ],
   "source": [
    "# Lesson 2: Calculating Molecular Descriptors with RDKit\n",
    "\n",
    "# Import necessary libraries\n",
    "import pandas as pd\n",
    "from rdkit import Chem\n",
    "from rdkit.Chem import Descriptors, Crippen, Lipinski\n",
    "\n",
    "# Recreate the BitterDB dataset from Lesson 1\n",
    "data = {\n",
    "    \"Name\": [\"Caffeine\", \"Quinine\", \"Saccharin\", \"Sucrose\", \"Denatonium\"],\n",
    "    \"SMILES\": [\n",
    "        \"Cn1cnc2c1c(=O)n(c(=O)n2C)C\",\n",
    "        \"CC1=C(C(=O)NC2=CC=CC=C12)C3=CC=CC=C3O\", \n",
    "        \"C1=CC=C(C=C1)C(=O)NS(=O)(=O)O\",\n",
    "        \"C(C1C(C(C(C(O1)O)O)O)O)O\",\n",
    "        \"CC[N+](C)(C)CCC1=CC=C(C=C1)C(=O)[O-]\"\n",
    "    ],\n",
    "    \"Bitter\": [1, 1, 1, 0, 1],\n",
    "    \"Class\": [\"Alkaloid\", \"Alkaloid\", \"Artificial Sweetener\", \"Sugar\", \"Quaternary Ammonium\"]\n",
    "}\n",
    "df = pd.DataFrame(data)\n",
    "\n",
    "# Convert SMILES to RDKit molecule objects\n",
    "df['Molecule'] = df['SMILES'].apply(Chem.MolFromSmiles)\n",
    "\n",
    "# Check if any molecules failed to parse\n",
    "print(\"Molecules that failed to parse:\")\n",
    "print(df[df['Molecule'].isna()]['Name'].tolist())\n",
    "\n",
    "# Calculate basic molecular descriptors\n",
    "df['MolWt'] = df['Molecule'].apply(lambda mol: Descriptors.MolWt(mol) if mol else None)\n",
    "df['LogP'] = df['Molecule'].apply(lambda mol: Crippen.MolLogP(mol) if mol else None)\n",
    "df['NumHDonors'] = df['Molecule'].apply(lambda mol: Descriptors.NumHDonors(mol) if mol else None)\n",
    "df['NumHAcceptors'] = df['Molecule'].apply(lambda mol: Descriptors.NumHAcceptors(mol) if mol else None)\n",
    "\n",
    "# Display the enhanced dataset\n",
    "print(\"Enhanced dataset with molecular descriptors:\")\n",
    "df_display = df.drop('Molecule', axis=1)  # Remove molecule objects for cleaner display\n",
    "print(df_display)\n",
    "\n",
    "# Calculate Lipinski's Rule of Five descriptors\n",
    "df['TPSA'] = df['Molecule'].apply(lambda mol: Descriptors.TPSA(mol) if mol else None)\n",
    "df['NumRotatableBonds'] = df['Molecule'].apply(lambda mol: Descriptors.NumRotatableBonds(mol) if mol else None)\n",
    "\n",
    "# Check Lipinski's Rule of Five compliance\n",
    "def check_lipinski(row):\n",
    "    \"\"\"Check if molecule passes Lipinski's Rule of Five\"\"\"\n",
    "    if pd.isna(row['MolWt']):\n",
    "        return None\n",
    "    \n",
    "    violations = 0\n",
    "    if row['MolWt'] > 500: violations += 1\n",
    "    if row['LogP'] > 5: violations += 1\n",
    "    if row['NumHDonors'] > 5: violations += 1\n",
    "    if row['NumHAcceptors'] > 10: violations += 1\n",
    "    \n",
    "    return violations\n",
    "\n",
    "df['Lipinski_Violations'] = df.apply(check_lipinski, axis=1)\n",
    "\n",
    "print(\"\\nLipinski's Rule of Five Analysis:\")\n",
    "print(df[['Name', 'MolWt', 'LogP', 'NumHDonors', 'NumHAcceptors', 'Lipinski_Violations']])\n",
    "\n",
    "# Explore relationship between descriptors and bitterness\n",
    "print(\"\\nDescriptor statistics by bitterness:\")\n",
    "descriptor_cols = ['MolWt', 'LogP', 'NumHDonors', 'NumHAcceptors', 'TPSA']\n",
    "bitter_stats = df.groupby('Bitter')[descriptor_cols].mean()\n",
    "print(bitter_stats)\n",
    "\n",
    "# Additional useful descriptors for cheminformatics\n",
    "df['NumHeavyAtoms'] = df['Molecule'].apply(lambda mol: Descriptors.HeavyAtomCount(mol) if mol else None)\n",
    "df['NumAromaticRings'] = df['Molecule'].apply(lambda mol: Descriptors.NumAromaticRings(mol) if mol else None)\n",
    "\n",
    "print(\"\\nAdditional structural descriptors:\")\n",
    "additional_cols = ['Name', 'NumHeavyAtoms', 'NumAromaticRings']\n",
    "print(df[additional_cols])\n",
    "\n",
    "# Create a function to calculate multiple descriptors at once\n",
    "def calculate_descriptors(smiles):\n",
    "    \"\"\"Calculate a comprehensive set of molecular descriptors from SMILES\"\"\"\n",
    "    mol = Chem.MolFromSmiles(smiles)\n",
    "    if mol is None:\n",
    "        return {desc: None for desc in ['MolWt', 'LogP', 'NumHDonors', 'NumHAcceptors', \n",
    "                                       'TPSA', 'NumRotatableBonds', 'NumHeavyAtoms', \n",
    "                                       'NumAromaticRings']}\n",
    "    \n",
    "    return {\n",
    "        'MolWt': Descriptors.MolWt(mol),\n",
    "        'LogP': Crippen.MolLogP(mol),\n",
    "        'NumHDonors': Descriptors.NumHDonors(mol),\n",
    "        'NumHAcceptors': Descriptors.NumHAcceptors(mol),\n",
    "        'TPSA': Descriptors.TPSA(mol),\n",
    "        'NumRotatableBonds': Descriptors.NumRotatableBonds(mol),\n",
    "        'NumHeavyAtoms': Descriptors.HeavyAtomCount(mol),\n",
    "        'NumAromaticRings': Descriptors.NumAromaticRings(mol)\n",
    "    }\n",
    "\n",
    "# Example of using the function on a new molecule\n",
    "new_smiles = \"CC(=O)Oc1ccccc1C(=O)O\"  # Aspirin\n",
    "aspirin_descriptors = calculate_descriptors(new_smiles)\n",
    "print(f\"\\nAspirin descriptors: {aspirin_descriptors}\")\n",
    "\n",
    "# Save the enhanced dataset\n",
    "df_final = df.drop('Molecule', axis=1)  # Remove molecule objects before saving\n",
    "# df_final.to_csv('bitterdb_with_descriptors.csv', index=False)\n",
    "print(\"\\nDataset ready for machine learning!\")\n",
    "print(f\"Shape: {df_final.shape}\")\n",
    "print(f\"Columns: {df_final.columns.tolist()}\")"
   ]
  },
  {
   "cell_type": "markdown",
   "id": "b7bf7788-7566-422f-b7ca-9233166ef80f",
   "metadata": {},
   "source": [
    "Proposed \"BitterSOL\" Model\n",
    "Based on the literature and chemical intuition about bitterness, I'd suggest this simplified linear model:\n",
    "P(Bitter) = logistic(β₀ + β₁ × LogP + β₂ × MW + β₃ × TPSA + β₄ × Charge)\n",
    "Where the key descriptors would be:\n",
    "\n",
    "LogP - Lipophilicity (bitter compounds often need some lipophilicity to interact with taste receptors)\n",
    "Molecular Weight - Size matters for receptor binding\n",
    "TPSA - Topological Polar Surface Area (captures \"surface properties\" mentioned in BitterPredict)\n",
    "Formal Charge - Total charge (specifically mentioned as important in BitterPredict)\n",
    "\n",
    "This parallels ESOL's simplicity but uses descriptors more relevant to taste perception. The key differences from ESOL:\n",
    "\n",
    "Uses TPSA instead of aromatic proportion (more relevant to bitter receptor binding)\n",
    "Uses formal charge instead of rotatable bonds (charge interactions are crucial for taste)\n",
    "Uses logistic regression instead of linear (since we're predicting binary bitter/not-bitter)\n",
    "\n",
    "Would you like me to show how to implement this in your lesson? We could:\n",
    "\n",
    "Calculate these four descriptors for your BitterDB molecules\n",
    "Fit a simple logistic regression model\n",
    "Compare it to the complexity of modern ML approaches like BitterPredict\n",
    "Let students experiment with different descriptor combinations\n",
    "\n",
    "This would make a great educational tool showing how domain knowledge can guide feature selection for predictive modeling!"
   ]
  },
  {
   "cell_type": "code",
   "execution_count": null,
   "id": "8a506a7c-94f1-4002-8566-eea9428fa400",
   "metadata": {},
   "outputs": [],
   "source": []
  }
 ],
 "metadata": {
  "kernelspec": {
   "display_name": "Python 3 (ipykernel)",
   "language": "python",
   "name": "python3"
  },
  "language_info": {
   "codemirror_mode": {
    "name": "ipython",
    "version": 3
   },
   "file_extension": ".py",
   "mimetype": "text/x-python",
   "name": "python",
   "nbconvert_exporter": "python",
   "pygments_lexer": "ipython3",
   "version": "3.12.10"
  },
  "vscode": {
   "interpreter": {
    "hash": "16d4a7bb199d969b1271ebe46f77414b0d9cd01b3c3983c2b2742fc6cd4503d3"
   }
  }
 },
 "nbformat": 4,
 "nbformat_minor": 5
}
